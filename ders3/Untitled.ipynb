{
 "cells": [
  {
   "cell_type": "code",
   "execution_count": 1,
   "metadata": {},
   "outputs": [
    {
     "data": {
      "text/plain": [
       "(6.9, 137.43333333333334)"
      ]
     },
     "execution_count": 1,
     "metadata": {},
     "output_type": "execute_result"
    }
   ],
   "source": [
    "my_list_1=[2,4,3,40,5,6,3,3,2,1]\n",
    "def my_fun_1(my_list_1=[2,4,3,40,5,6,3,3,2,1]):\n",
    "    t=0\n",
    "    s=0\n",
    "    for i in my_list_1:\n",
    "        s=s+1\n",
    "        t=t+i\n",
    "    ortalama=t/s\n",
    "    \n",
    "    t=0\n",
    "    s=0\n",
    "    for i in my_list_1:\n",
    "        s=s+1\n",
    "        t=t+(i-ortalama)*(i-ortalama)\n",
    "    varyans=t/(s-1)\n",
    "    \n",
    "    return ortalama, varyans\n",
    "my_fun_1()"
   ]
  },
  {
   "cell_type": "code",
   "execution_count": 2,
   "metadata": {},
   "outputs": [
    {
     "data": {
      "text/plain": [
       "{2: 2, 4: 1, 3: 3, 40: 1, 5: 1, 6: 1, 1: 1}"
      ]
     },
     "execution_count": 2,
     "metadata": {},
     "output_type": "execute_result"
    }
   ],
   "source": [
    "#histogram bilgisini elde etme:\n",
    "my_histogram={} #erişimin hızlı olması için\n",
    "for i in my_list_1:\n",
    "    if i in my_histogram.keys():\n",
    "        my_histogram[i]=my_histogram[i]+1 #listede bu eleman varsa sayıyı 1 arttır\n",
    "    else:\n",
    "        my_histogram[i]=1 #eğer o eleman daha önce bulunmadıysa 1 yazdır\n",
    "my_histogram #çıktı -> 2 sayısı 2 tane var, 4 sayısı 1 tane var"
   ]
  },
  {
   "cell_type": "code",
   "execution_count": 3,
   "metadata": {},
   "outputs": [
    {
     "name": "stdout",
     "output_type": "stream",
     "text": [
      "1 10\n",
      "2 34\n",
      "25 14\n"
     ]
    }
   ],
   "source": [
    "my_histogram={}\n",
    "my_histogram[1]=10\n",
    "my_histogram[2]=34\n",
    "my_histogram[25]=14\n",
    "#my_histogram #hangi elemandan kaç tane olduğunu listeler\n",
    "#my_histogram.keys() #eleman var mı yok mu?\n",
    "for i in my_histogram.keys():\n",
    "    print(i,my_histogram[i])"
   ]
  },
  {
   "cell_type": "code",
   "execution_count": 4,
   "metadata": {},
   "outputs": [
    {
     "data": {
      "text/plain": [
       "(3, (168, 299, 3))"
      ]
     },
     "execution_count": 4,
     "metadata": {},
     "output_type": "execute_result"
    }
   ],
   "source": [
    "import matplotlib.pyplot as plt\n",
    "import numpy as np\n",
    "im_1=plt.imread('a.jpg')\n",
    "#im_1.shape #en,boy,color\n",
    "im_1.ndim,im_1.shape"
   ]
  },
  {
   "cell_type": "code",
   "execution_count": 5,
   "metadata": {},
   "outputs": [],
   "source": [
    "#histogramı bulan fonksiyon:\n",
    "def my_fun_2(im_1=plt.imread('a.jpg')):\n",
    "    m,n,p=im_1.shape\n",
    "    my_histogram={}\n",
    "    for i in range (m):\n",
    "        for j in range (n):\n",
    "            if im_1[i,j,0] in my_histogram.keys():\n",
    "                my_histogram[im_1[i,j,0]]=my_histogram[im_1[i,j,0]]+1\n",
    "            else:\n",
    "                my_histogram[im_1[i,j,0]]=1\n",
    "    return my_histogram"
   ]
  },
  {
   "cell_type": "code",
   "execution_count": 6,
   "metadata": {},
   "outputs": [],
   "source": [
    "def my_fun_3(my_histogram=my_fun_2()):\n",
    "    x=[] #soldaki değerler\n",
    "    y=[] #sağdaki değerler\n",
    "    for key in my_histogram.keys():\n",
    "        x.append(key)\n",
    "        y.append(my_histogram[key])\n",
    "    return x,y"
   ]
  },
  {
   "cell_type": "code",
   "execution_count": 7,
   "metadata": {},
   "outputs": [
    {
     "data": {
      "image/png": "[encoded data removed]",
      "text/plain": [
       "<Figure size 432x288 with 1 Axes>"
      ]
     },
     "metadata": {
      "needs_background": "light"
     },
     "output_type": "display_data"
    }
   ],
   "source": [
    "x,y=my_fun_3()\n",
    "plt.bar(x,y) #grafiğe aktarma\n",
    "plt.show()"
   ]
  }
 ],
 "metadata": {
  "kernelspec": {
   "display_name": "Python 3",
   "language": "python",
   "name": "python3"
  },
  "language_info": {
   "codemirror_mode": {
    "name": "ipython",
    "version": 3
   },
   "file_extension": ".py",
   "mimetype": "text/x-python",
   "name": "python",
   "nbconvert_exporter": "python",
   "pygments_lexer": "ipython3",
   "version": "3.7.3"
  }
 },
 "nbformat": 4,
 "nbformat_minor": 2
}
