{
 "cells": [
  {
   "cell_type": "code",
   "execution_count": 1,
   "metadata": {},
   "outputs": [],
   "source": [
    "import numpy as np\n",
    "import matplotlib.pyplot as plt"
   ]
  },
  {
   "cell_type": "code",
   "execution_count": 13,
   "metadata": {},
   "outputs": [
    {
     "data": {
      "text/plain": [
       "([180, 170, 170, 175, 181, 175, 177, 185, 179, 160],\n",
       " [95, 70, 60, 79, 60, 63, 83, 80, 75, 50],\n",
       " 10,\n",
       " 10)"
      ]
     },
     "execution_count": 13,
     "metadata": {},
     "output_type": "execute_result"
    }
   ],
   "source": [
    "x=[180,170,170,175,181,175,177,185,179,160]\n",
    "y=[95,70,60,79,60,63,83,80,75,50]\n",
    "x,y,len(x),len(y)"
   ]
  },
  {
   "cell_type": "code",
   "execution_count": 14,
   "metadata": {},
   "outputs": [
    {
     "data": {
      "text/plain": [
       "array([[180, 170, 170, 175, 181, 175, 177, 185, 179, 160],\n",
       "       [ 95,  70,  60,  79,  60,  63,  83,  80,  75,  50]])"
      ]
     },
     "execution_count": 14,
     "metadata": {},
     "output_type": "execute_result"
    }
   ],
   "source": [
    "#https://docs.scipy.org/doc/numpy/reference/generated/numpy.cov.html\n",
    "z=np.stack((x, y), axis=0)\n",
    "z"
   ]
  },
  {
   "cell_type": "code",
   "execution_count": 15,
   "metadata": {},
   "outputs": [
    {
     "data": {
      "text/plain": [
       "array([[ 50.62222222,  62.        ],\n",
       "       [ 62.        , 180.72222222]])"
      ]
     },
     "execution_count": 15,
     "metadata": {},
     "output_type": "execute_result"
    }
   ],
   "source": [
    "sigma=np.cov(z)\n",
    "sigma"
   ]
  },
  {
   "cell_type": "code",
   "execution_count": 16,
   "metadata": {},
   "outputs": [
    {
     "data": {
      "text/plain": [
       "array([[180, 170, 170, 175, 181, 175, 177, 185, 179, 160],\n",
       "       [180, 170, 170, 175, 181, 175, 177, 185, 179, 160]])"
      ]
     },
     "execution_count": 16,
     "metadata": {},
     "output_type": "execute_result"
    }
   ],
   "source": [
    "x_test=np.stack((x,x),axis=0)\n",
    "x_test"
   ]
  },
  {
   "cell_type": "code",
   "execution_count": 17,
   "metadata": {},
   "outputs": [
    {
     "data": {
      "text/plain": [
       "array([[50.62222222, 50.62222222],\n",
       "       [50.62222222, 50.62222222]])"
      ]
     },
     "execution_count": 17,
     "metadata": {},
     "output_type": "execute_result"
    }
   ],
   "source": [
    "sigma2=np.cov(x_test)\n",
    "sigma2"
   ]
  },
  {
   "cell_type": "code",
   "execution_count": 24,
   "metadata": {},
   "outputs": [],
   "source": [
    "def generate_data():\n",
    "    x=[180,170,170,175,181,175,177,185,179,160]\n",
    "    y=[95,70,60,79,60,63,83,80,75,50]\n",
    "    z=np.stack((x, y), axis=0)\n",
    "    return z\n",
    "def get_cov_matrix(z):\n",
    "    sigma=np.cov(z)\n",
    "    return sigma"
   ]
  },
  {
   "cell_type": "code",
   "execution_count": 25,
   "metadata": {},
   "outputs": [
    {
     "data": {
      "text/plain": [
       "array([[ 50.62222222,  62.        ],\n",
       "       [ 62.        , 180.72222222]])"
      ]
     },
     "execution_count": 25,
     "metadata": {},
     "output_type": "execute_result"
    }
   ],
   "source": [
    "data_1=generate_data()\n",
    "get_cov_matrix(data_1)"
   ]
  },
  {
   "cell_type": "code",
   "execution_count": 26,
   "metadata": {},
   "outputs": [],
   "source": [
    "def multivariate_normal(x, d, mean, covariance):\n",
    "    \"\"\"pdf of the multivariate normal distribution.\"\"\"\n",
    "    x_m = x - mean\n",
    "    return (1. / (np.sqrt((2 * np.pi)**d * np.linalg.det(covariance))) * \n",
    "            np.exp(-(np.linalg.solve(covariance, x_m).T.dot(x_m)) / 2))"
   ]
  },
  {
   "cell_type": "code",
   "execution_count": 47,
   "metadata": {},
   "outputs": [
    {
     "data": {
      "text/plain": [
       "(175.2, 71.5)"
      ]
     },
     "execution_count": 47,
     "metadata": {},
     "output_type": "execute_result"
    }
   ],
   "source": [
    "x=generate_data()\n",
    "np.mean(x[0,:]),np.mean(x[1,:]) #test amaçlı ortalama boy ve kilo sonuçları"
   ]
  },
  {
   "cell_type": "code",
   "execution_count": 48,
   "metadata": {},
   "outputs": [],
   "source": [
    "x_1=[175,72]\n",
    "d_1=2\n",
    "data=generate_data()\n",
    "mean_1=np.array([np.mean(x[0,:]),np.mean(x[1,:])])\n",
    "covariance_1=get_cov_matrix(data)"
   ]
  },
  {
   "cell_type": "code",
   "execution_count": 49,
   "metadata": {},
   "outputs": [
    {
     "data": {
      "text/plain": [
       "0.0021785816127892627"
      ]
     },
     "execution_count": 49,
     "metadata": {},
     "output_type": "execute_result"
    }
   ],
   "source": [
    "multivariate_normal(x_1,d_1,mean_1,covariance_1)"
   ]
  },
  {
   "cell_type": "code",
   "execution_count": 50,
   "metadata": {},
   "outputs": [
    {
     "name": "stdout",
     "output_type": "stream",
     "text": [
      "167     0.0006617920579089789\n",
      "168     0.0008653451053442342\n",
      "169     0.0010936064403862017\n",
      "170     0.0013357854355784107\n",
      "171     0.0015769440170517823\n",
      "172     0.001799284234571747\n",
      "173     0.001984208019848437\n",
      "174     0.002114845053089612\n",
      "175     0.0021785816127892627\n",
      "176     0.0021690673696961073\n"
     ]
    }
   ],
   "source": [
    "for i in range (10):\n",
    "    v=167+i\n",
    "    x_1=[v,72]\n",
    "    s=multivariate_normal(x_1,d_1,mean_1,covariance_1)\n",
    "    print(v,\"   \",s)"
   ]
  },
  {
   "cell_type": "code",
   "execution_count": null,
   "metadata": {},
   "outputs": [],
   "source": []
  }
 ],
 "metadata": {
  "kernelspec": {
   "display_name": "Python 3",
   "language": "python",
   "name": "python3"
  },
  "language_info": {
   "codemirror_mode": {
    "name": "ipython",
    "version": 3
   },
   "file_extension": ".py",
   "mimetype": "text/x-python",
   "name": "python",
   "nbconvert_exporter": "python",
   "pygments_lexer": "ipython3",
   "version": "3.7.3"
  }
 },
 "nbformat": 4,
 "nbformat_minor": 2
}
