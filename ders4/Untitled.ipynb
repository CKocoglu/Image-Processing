{
 "cells": [
  {
   "cell_type": "code",
   "execution_count": 1,
   "metadata": {},
   "outputs": [],
   "source": [
    "#https://www.python-course.eu/neural_network_mnist.php\n",
    "#Bu sayfadaki 2 tane .csv dosyasını çalıştığımız dosyaya indirdik."
   ]
  },
  {
   "cell_type": "code",
   "execution_count": 2,
   "metadata": {},
   "outputs": [],
   "source": [
    "%matplotlib inline \n",
    "import numpy as np\n",
    "import matplotlib.pyplot as plt"
   ]
  },
  {
   "cell_type": "code",
   "execution_count": 3,
   "metadata": {},
   "outputs": [],
   "source": [
    "data_path = \"C:/Users/Cihat/Desktop/mnist_deneme/ders4/\" \n",
    "train_data = np.loadtxt(data_path + \"mnist_train.csv\", delimiter=\",\") \n",
    "test_data = np.loadtxt(data_path + \"mnist_test.csv\", delimiter=\",\") "
   ]
  },
  {
   "cell_type": "code",
   "execution_count": 4,
   "metadata": {},
   "outputs": [
    {
     "data": {
      "text/plain": [
       "array([[7., 0., 0., ..., 0., 0., 0.],\n",
       "       [2., 0., 0., ..., 0., 0., 0.],\n",
       "       [1., 0., 0., ..., 0., 0., 0.],\n",
       "       ...,\n",
       "       [9., 0., 0., ..., 0., 0., 0.],\n",
       "       [5., 0., 0., ..., 0., 0., 0.],\n",
       "       [9., 0., 0., ..., 0., 0., 0.]])"
      ]
     },
     "execution_count": 4,
     "metadata": {},
     "output_type": "execute_result"
    }
   ],
   "source": [
    "image_size = 28 # width and length\n",
    "no_of_different_labels = 10 #  i.e. 0, 1, 2, 3, ..., 9\n",
    "image_pixels = image_size * image_size\n",
    "\n",
    "test_data[:10]"
   ]
  },
  {
   "cell_type": "code",
   "execution_count": 5,
   "metadata": {},
   "outputs": [
    {
     "data": {
      "text/plain": [
       "(2, (60000, 785))"
      ]
     },
     "execution_count": 5,
     "metadata": {},
     "output_type": "execute_result"
    }
   ],
   "source": [
    "train_data.ndim,train_data.shape     #785 her bir resmin boyutu=28*28+1"
   ]
  },
  {
   "cell_type": "code",
   "execution_count": 6,
   "metadata": {},
   "outputs": [
    {
     "data": {
      "text/plain": [
       "0.0"
      ]
     },
     "execution_count": 6,
     "metadata": {},
     "output_type": "execute_result"
    }
   ],
   "source": [
    "train_data[10,50] #10. satır 50. elemanı "
   ]
  },
  {
   "cell_type": "code",
   "execution_count": 7,
   "metadata": {},
   "outputs": [
    {
     "data": {
      "text/plain": [
       "3.0"
      ]
     },
     "execution_count": 7,
     "metadata": {},
     "output_type": "execute_result"
    }
   ],
   "source": [
    "train_data[10,0] #10. satır 0. elemanı : eleman=3"
   ]
  },
  {
   "cell_type": "code",
   "execution_count": 8,
   "metadata": {},
   "outputs": [
    {
     "data": {
      "text/plain": [
       "(785,)"
      ]
     },
     "execution_count": 8,
     "metadata": {},
     "output_type": "execute_result"
    }
   ],
   "source": [
    "im_3=train_data[10,:] #10. satırdaki elemanları komple im_3'e atar\n",
    "im_3.shape "
   ]
  },
  {
   "cell_type": "code",
   "execution_count": 9,
   "metadata": {},
   "outputs": [
    {
     "data": {
      "text/plain": [
       "(784,)"
      ]
     },
     "execution_count": 9,
     "metadata": {},
     "output_type": "execute_result"
    }
   ],
   "source": [
    "im_4=im_3[1:] \n",
    "im_4.shape "
   ]
  },
  {
   "cell_type": "code",
   "execution_count": 10,
   "metadata": {},
   "outputs": [],
   "source": [
    "im_5=im_4.reshape(28,28)"
   ]
  },
  {
   "cell_type": "code",
   "execution_count": 11,
   "metadata": {},
   "outputs": [
    {
     "data": {
      "image/png": "[encoded data removed]",
      "text/plain": [
       "<Figure size 432x288 with 1 Axes>"
      ]
     },
     "metadata": {
      "needs_background": "light"
     },
     "output_type": "display_data"
    }
   ],
   "source": [
    "plt.imshow(im_5,cmap='gray')\n",
    "plt.show()"
   ]
  },
  {
   "cell_type": "code",
   "execution_count": 12,
   "metadata": {},
   "outputs": [
    {
     "name": "stdout",
     "output_type": "stream",
     "text": [
      "0   5923\n",
      "1   6742\n",
      "2   5958\n",
      "3   6131\n",
      "4   5842\n",
      "5   5421\n",
      "6   5918\n",
      "7   6265\n",
      "8   5851\n",
      "9   5949\n"
     ]
    }
   ],
   "source": [
    "#rakamlardan kaçar tane olduğunu bulan fonksiyon:\n",
    "\n",
    "m,n=train_data.shape\n",
    "m,n #sonuç=(60000,785)\n",
    "\n",
    "def my_count(k=0):\n",
    "    s=0\n",
    "    for i in range (m):\n",
    "        if(train_data[i,0]==k):\n",
    "            s=s+1\n",
    "    return s #kaç tane k değeri olduğunu bastırır.\n",
    "for i in range(10):\n",
    "    c=my_count(i)\n",
    "    print(i,\" \",c) # 0-10 sayılarından kaçar tane olduğunu yazdırır."
   ]
  },
  {
   "cell_type": "code",
   "execution_count": 13,
   "metadata": {},
   "outputs": [],
   "source": [
    "#train_data[i,0]  #değeri söyler\n",
    "#train_data[i,1]  #sol üstteki pixel\n",
    "#train_data[i,784] #sağ alttaki değer"
   ]
  },
  {
   "cell_type": "code",
   "execution_count": 14,
   "metadata": {},
   "outputs": [],
   "source": [
    "import math\n",
    "def my_pdf_1(x,mu=0.0,sigma=1.0):\n",
    "    x=float(x-mu)/sigma\n",
    "    return math.exp(-x*x/2.0)/math.sqrt(2.0*math.pi)/sigma"
   ]
  },
  {
   "cell_type": "code",
   "execution_count": 15,
   "metadata": {},
   "outputs": [
    {
     "name": "stdout",
     "output_type": "stream",
     "text": [
      "22.705723450953908 61.8672005389669\n"
     ]
    }
   ],
   "source": [
    "#değeri 0 olan resimlerin sol üstteki pixelin ortalama ve standart sapmasını bulan fonksiyon:\n",
    "s,t,k=0,0,0\n",
    "l=350 #lokasyon\n",
    "for i in range (m):\n",
    "    if(train_data[i,0]==k):\n",
    "        s=s+1 #kaç tane var\n",
    "        t=t+train_data[i,l+1] #instensity değerleri\n",
    "mean_1=t/s #ortalama\n",
    "s,t=0,0\n",
    "for i in range (m):\n",
    "    if(train_data[i,0]==k):\n",
    "        s=s+1 #kaç tane var\n",
    "        diff_1=train_data[i,l+1]-mean_1\n",
    "        t=t+diff_1*diff_1\n",
    "std_1=np.sqrt(t/(s-1))\n",
    "print(mean_1,std_1)"
   ]
  },
  {
   "cell_type": "code",
   "execution_count": 25,
   "metadata": {},
   "outputs": [],
   "source": [
    "#yukarıdaki kodları fonksiyon haline getirdik: \n",
    "def get_my_mean_and_std(k=0,l=0):\n",
    "    s=0\n",
    "    t=0\n",
    "    for i in range(m):\n",
    "        if(train_data[i,0]==k):\n",
    "            s=s+1\n",
    "            t=t+train_data[i,l+1]\n",
    "    mean_1=t/s\n",
    "\n",
    "    s,t=0,0\n",
    "    for i in range(m):\n",
    "        if(train_data[i,0]==k):\n",
    "            s=s+1\n",
    "            diff_1=train_data[i,l+1]-mean_1\n",
    "            t=t+diff_1*diff_1\n",
    "    std_1=np.sqrt(t/(s-1))\n",
    "    return mean_1,std_1"
   ]
  },
  {
   "cell_type": "code",
   "execution_count": 26,
   "metadata": {},
   "outputs": [
    {
     "data": {
      "image/png": "[encoded data removed]",
      "text/plain": [
       "<Figure size 432x288 with 1 Axes>"
      ]
     },
     "metadata": {
      "needs_background": "light"
     },
     "output_type": "display_data"
    }
   ],
   "source": [
    "im_1=plt.imread('test_1.jpg')\n",
    "plt.imshow(im_1)\n",
    "plt.show()\n",
    "test_value=im_1[0,0,0]"
   ]
  },
  {
   "cell_type": "code",
   "execution_count": 27,
   "metadata": {},
   "outputs": [
    {
     "data": {
      "text/plain": [
       "8.939333047950803e-05"
      ]
     },
     "execution_count": 27,
     "metadata": {},
     "output_type": "execute_result"
    }
   ],
   "source": [
    "m_1,std_1=get_my_mean_and_std(2,100)\n",
    "my_pdf_1(test_value,m_1,std_1)"
   ]
  },
  {
   "cell_type": "code",
   "execution_count": 28,
   "metadata": {},
   "outputs": [],
   "source": [
    "#ÖDEV: oluşturulan resmin hangi sayı olduğunu bulan fonksiyonu yazınız."
   ]
  },
  {
   "cell_type": "code",
   "execution_count": null,
   "metadata": {},
   "outputs": [],
   "source": []
  }
 ],
 "metadata": {
  "kernelspec": {
   "display_name": "Python 3",
   "language": "python",
   "name": "python3"
  },
  "language_info": {
   "codemirror_mode": {
    "name": "ipython",
    "version": 3
   },
   "file_extension": ".py",
   "mimetype": "text/x-python",
   "name": "python",
   "nbconvert_exporter": "python",
   "pygments_lexer": "ipython3",
   "version": "3.7.3"
  }
 },
 "nbformat": 4,
 "nbformat_minor": 2
}
