{
 "cells": [
  {
   "cell_type": "code",
   "execution_count": 1,
   "metadata": {},
   "outputs": [],
   "source": [
    "import numpy as np\n",
    "\n",
    "class Conv3x3:\n",
    "    # A Convolution layer using 3x3 filters.\n",
    "\n",
    "    def __init__(self, num_filters):\n",
    "      self.num_filters = num_filters\n",
    "\n",
    "      # filters is a 3d array with dimensions (num_filters, 3, 3)\n",
    "      # We divide by 9 to reduce the variance of our initial values\n",
    "      self.filters = np.random.randn(num_filters, 3, 3) / 9\n",
    "\n",
    "    def iterate_regions(self, image):\n",
    "\n",
    "        #Generates all possible 3x3 image regions using valid padding.\n",
    "        #image is a 2d numpy array\n",
    "\n",
    "        h, w = image.shape\n",
    "\n",
    "        for i in range(h - 2):\n",
    "            for j in range(w - 2):\n",
    "                im_region = image[i:(i + 3), j:(j + 3)]\n",
    "                yield im_region, i, j\n",
    "\n",
    "    def forward(self, input):\n",
    "\n",
    "        #Performs a forward pass of the conv layer using the given input.\n",
    "        #Returns a 3d numpy array with dimensions (h, w, num_filters).\n",
    "        #   - input is a 2d numpy array\n",
    "        \n",
    "        h, w = input.shape\n",
    "        output = np.zeros((h - 2, w - 2, self.num_filters))\n",
    "\n",
    "        for im_region, i, j in self.iterate_regions(input):\n",
    "            output[i, j] = np.sum(im_region * self.filters, axis=(1, 2))\n",
    "            \n",
    "        return output"
   ]
  },
  {
   "cell_type": "code",
   "execution_count": 2,
   "metadata": {},
   "outputs": [
    {
     "ename": "SyntaxError",
     "evalue": "invalid syntax (<ipython-input-2-f877e4d20c1b>, line 1)",
     "output_type": "error",
     "traceback": [
      "\u001b[1;36m  File \u001b[1;32m\"<ipython-input-2-f877e4d20c1b>\"\u001b[1;36m, line \u001b[1;32m1\u001b[0m\n\u001b[1;33m    pip3 install mnist\u001b[0m\n\u001b[1;37m               ^\u001b[0m\n\u001b[1;31mSyntaxError\u001b[0m\u001b[1;31m:\u001b[0m invalid syntax\n"
     ]
    }
   ],
   "source": [
    "#pip install mnist"
   ]
  },
  {
   "cell_type": "code",
   "execution_count": 3,
   "metadata": {},
   "outputs": [
    {
     "name": "stdout",
     "output_type": "stream",
     "text": [
      "(26, 26, 8)\n"
     ]
    }
   ],
   "source": [
    "import mnist\n",
    "\n",
    "# The mnist package handles the MNIST dataset for us!\n",
    "# Learn more at https://github.com/datapythonista/mnist\n",
    "train_images = mnist.train_images()\n",
    "train_labels = mnist.train_labels()\n",
    "\n",
    "conv = Conv3x3(8)\n",
    "output = conv.forward(train_images[0])\n",
    "print(output.shape) # (26, 26, 8)"
   ]
  },
  {
   "cell_type": "code",
   "execution_count": 4,
   "metadata": {},
   "outputs": [],
   "source": [
    "#POOLING\n",
    "\n",
    "class MaxPool2:\n",
    "    # A Max Pooling layer using a pool size of 2.\n",
    "\n",
    "    def iterate_regions(self, image):\n",
    "      '''\n",
    "      Generates non-overlapping 2x2 image regions to pool over.\n",
    "      - image is a 2d numpy array\n",
    "      '''\n",
    "      h, w, _ = image.shape\n",
    "      new_h = h // 2\n",
    "      new_w = w // 2\n",
    "\n",
    "      for i in range(new_h):\n",
    "        for j in range(new_w):\n",
    "          im_region = image[(i * 2):(i * 2 + 2), (j * 2):(j * 2 + 2)]\n",
    "          yield im_region, i, j\n",
    "\n",
    "    def forward(self, input):\n",
    "      '''\n",
    "      Performs a forward pass of the maxpool layer using the given input.\n",
    "      Returns a 3d numpy array with dimensions (h / 2, w / 2, num_filters).\n",
    "      - input is a 3d numpy array with dimensions (h, w, num_filters)\n",
    "      '''\n",
    "      h, w, num_filters = input.shape\n",
    "      output = np.zeros((h // 2, w // 2, num_filters))\n",
    "\n",
    "      for im_region, i, j in self.iterate_regions(input):\n",
    "        output[i, j] = np.amax(im_region, axis=(0, 1))\n",
    "\n",
    "      return output"
   ]
  },
  {
   "cell_type": "code",
   "execution_count": 5,
   "metadata": {},
   "outputs": [
    {
     "name": "stdout",
     "output_type": "stream",
     "text": [
      "(13, 13, 8)\n"
     ]
    }
   ],
   "source": [
    "\n",
    "# The mnist package handles the MNIST dataset for us!\n",
    "# Learn more at https://github.com/datapythonista/mnist\n",
    "train_images = mnist.train_images()\n",
    "train_labels = mnist.train_labels()\n",
    "\n",
    "conv = Conv3x3(8)\n",
    "pool = MaxPool2()\n",
    "\n",
    "output = conv.forward(train_images[0])\n",
    "output = pool.forward(output)\n",
    "print(output.shape) # (13, 13, 8)"
   ]
  },
  {
   "cell_type": "code",
   "execution_count": 6,
   "metadata": {},
   "outputs": [],
   "source": [
    "#SOFTMAX\n",
    "\n",
    "class Softmax:\n",
    "    # A standard fully-connected layer with softmax activation.\n",
    "\n",
    "    def __init__(self, input_len, nodes):\n",
    "      # We divide by input_len to reduce the variance of our initial values\n",
    "      self.weights = np.random.randn(input_len, nodes) / input_len\n",
    "      self.biases = np.zeros(nodes)\n",
    "\n",
    "    def forward(self, input):\n",
    "      '''\n",
    "      Performs a forward pass of the softmax layer using the given input.\n",
    "      Returns a 1d numpy array containing the respective probability values.\n",
    "      - input can be any array with any dimensions.\n",
    "      '''\n",
    "      input = input.flatten()\n",
    "\n",
    "      input_len, nodes = self.weights.shape\n",
    "\n",
    "      totals = np.dot(input, self.weights) + self.biases\n",
    "      exp = np.exp(totals)\n",
    "      return exp / np.sum(exp, axis=0)"
   ]
  },
  {
   "cell_type": "code",
   "execution_count": 7,
   "metadata": {},
   "outputs": [
    {
     "name": "stdout",
     "output_type": "stream",
     "text": [
      "MNIST CNN initialized!\n",
      "[Step 100] Past 100 steps: Average Loss 2.303 | Accuracy: 12%\n",
      "[Step 200] Past 100 steps: Average Loss 2.303 | Accuracy: 12%\n",
      "[Step 300] Past 100 steps: Average Loss 2.303 | Accuracy: 13%\n",
      "[Step 400] Past 100 steps: Average Loss 2.304 | Accuracy: 9%\n",
      "[Step 500] Past 100 steps: Average Loss 2.302 | Accuracy: 14%\n",
      "[Step 600] Past 100 steps: Average Loss 2.302 | Accuracy: 11%\n",
      "[Step 700] Past 100 steps: Average Loss 2.303 | Accuracy: 10%\n",
      "[Step 800] Past 100 steps: Average Loss 2.304 | Accuracy: 8%\n",
      "[Step 900] Past 100 steps: Average Loss 2.303 | Accuracy: 9%\n",
      "[Step 1000] Past 100 steps: Average Loss 2.304 | Accuracy: 9%\n"
     ]
    }
   ],
   "source": [
    "# We only use the first 1k testing examples (out of 10k total)\n",
    "# in the interest of time. Feel free to change this if you want.\n",
    "test_images = mnist.test_images()[:1000]\n",
    "test_labels = mnist.test_labels()[:1000]\n",
    "\n",
    "conv = Conv3x3(8)                  # 28x28x1 -> 26x26x8\n",
    "pool = MaxPool2()                  # 26x26x8 -> 13x13x8\n",
    "softmax = Softmax(13 * 13 * 8, 10) # 13x13x8 -> 10\n",
    "\n",
    "def forward(image, label):\n",
    "    '''\n",
    "    Completes a forward pass of the CNN and calculates the accuracy and\n",
    "    cross-entropy loss.\n",
    "    - image is a 2d numpy array\n",
    "    - label is a digit\n",
    "    '''\n",
    "    # We transform the image from [0, 255] to [-0.5, 0.5] to make it easier\n",
    "    # to work with. This is standard practice.\n",
    "    out = conv.forward((image / 255) - 0.5)\n",
    "    out = pool.forward(out)\n",
    "    out = softmax.forward(out)\n",
    "\n",
    "    # Calculate cross-entropy loss and accuracy. np.log() is the natural log.\n",
    "    loss = -np.log(out[label])\n",
    "    acc = 1 if np.argmax(out) == label else 0\n",
    "\n",
    "    return out, loss, acc\n",
    "\n",
    "print('MNIST CNN initialized!')\n",
    "\n",
    "loss = 0\n",
    "num_correct = 0\n",
    "for i, (im, label) in enumerate(zip(test_images, test_labels)):\n",
    "    # Do a forward pass.\n",
    "    _, l, acc = forward(im, label)\n",
    "    loss += l\n",
    "    num_correct += acc\n",
    "\n",
    "    # Print stats every 100 steps.\n",
    "    if i % 100 == 99:\n",
    "      print(\n",
    "        '[Step %d] Past 100 steps: Average Loss %.3f | Accuracy: %d%%' %\n",
    "        (i + 1, loss / 100, num_correct)\n",
    "      )\n",
    "      loss = 0\n",
    "      num_correct = 0"
   ]
  },
  {
   "cell_type": "code",
   "execution_count": null,
   "metadata": {},
   "outputs": [],
   "source": []
  }
 ],
 "metadata": {
  "kernelspec": {
   "display_name": "Python 3",
   "language": "python",
   "name": "python3"
  },
  "language_info": {
   "codemirror_mode": {
    "name": "ipython",
    "version": 3
   },
   "file_extension": ".py",
   "mimetype": "text/x-python",
   "name": "python",
   "nbconvert_exporter": "python",
   "pygments_lexer": "ipython3",
   "version": "3.7.3"
  }
 },
 "nbformat": 4,
 "nbformat_minor": 2
}
